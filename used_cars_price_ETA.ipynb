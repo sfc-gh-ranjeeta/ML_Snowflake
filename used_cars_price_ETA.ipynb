{
 "metadata": {
  "kernelspec": {
   "display_name": "Streamlit Notebook",
   "name": "streamlit"
  }
 },
 "nbformat_minor": 5,
 "nbformat": 4,
 "cells": [
  {
   "cell_type": "markdown",
   "id": "1bd42d55-196c-4079-a72b-d45a1863eecc",
   "metadata": {
    "name": "cell4",
    "collapsed": false
   },
   "source": "## SELECT PACKAGE\n\n\n## GET LIBRARIES"
  },
  {
   "cell_type": "code",
   "id": "3775908f-ca36-4846-8f38-5adca39217f2",
   "metadata": {
    "language": "python",
    "name": "cell1",
    "collapsed": false
   },
   "source": "from snowflake.snowpark.version import VERSION\nfrom snowflake.snowpark.types import StructType, StructField, DoubleType, StringType\nimport snowflake.snowpark.functions as F\n\n# data science libs\nimport numpy as np\nimport pandas as pd\n\n# warning suppresion\nimport warnings; warnings.simplefilter('ignore')",
   "execution_count": null,
   "outputs": []
  },
  {
   "cell_type": "markdown",
   "id": "8d50cbf4-0c8d-4950-86cb-114990437ac9",
   "metadata": {
    "name": "cell2",
    "collapsed": false
   },
   "source": "### Business Context ###\nThere is a huge demand for used cars in the Indian Market today. As sales of new cars have slowed down in the recent past, the pre-owned car market has continued to grow over the past years and is larger than the new car market now.you work in a tech start-up that aims to find footholes in this market.\n\n### Objective ###\n\nAs senior data scientist, you have to come up with a pricing model that can effectively predict the price of used cars and can help the business in devising profitable strategies using differential pricing. For example, if the business knows the market price, it will never sell anything below it.\n\n\n## CONNECTION ##\n\n"
  },
  {
   "cell_type": "code",
   "id": "c695373e-ac74-4b62-a1f1-08206cbd5c81",
   "metadata": {
    "language": "python",
    "name": "cell3",
    "collapsed": false
   },
   "source": "session = get_active_session()\nsession.sql_simplifier_enabled = True\nsnowflake_environment = session.sql('SELECT current_user(),current_version()').collect()\n\nsnowpark_version = VERSION\n# Current Environment Details\nprint('\\nConnection Established with the following parameters:')\nprint('User                        : {}'.format(snowflake_environment[0][0]))\nprint('Role                        : {}'.format(session.get_current_role()))\nprint('Database                    : {}'.format(session.get_current_database()))\nprint('Schema                      : {}'.format(session.get_current_schema()))\nprint('Warehouse                   : {}'.format(session.get_current_warehouse()))\nprint('Snowflake version           : {}'.format(snowflake_environment[0][1]))\nprint('Snowpark for Python version : {}.{}.{}'.format(snowpark_version[0],snowpark_version[1],snowpark_version[2]))",
   "execution_count": null,
   "outputs": []
  },
  {
   "cell_type": "markdown",
   "id": "1a5ea6b0-bb8f-423e-a0b3-83ff40fb1f94",
   "metadata": {
    "name": "cell5",
    "collapsed": false
   },
   "source": "### Loading Data ###\nThe data is in form of csv file will be loaded into snowflake tables and it will be used from there."
  },
  {
   "cell_type": "code",
   "id": "b32b2efe-9e48-49ab-afa6-49f3a3aa188c",
   "metadata": {
    "language": "sql",
    "name": "cell6",
    "collapsed": false
   },
   "outputs": [],
   "source": "\n\nls @STAGE_RAWDATA",
   "execution_count": null
  },
  {
   "cell_type": "markdown",
   "id": "28ebf32a-1535-4521-a622-ee721dac3313",
   "metadata": {
    "name": "cell9",
    "collapsed": false
   },
   "source": "Load the csv data into snowpark dataframe and writing in snowflake table "
  },
  {
   "cell_type": "code",
   "id": "eaba05b7-18a2-4358-82d2-d6e28924e67a",
   "metadata": {
    "language": "python",
    "name": "cell7",
    "collapsed": false
   },
   "outputs": [],
   "source": "df = session.read.option(\"INFER_SCHEMA\", True).option(\"PARSE_HEADER\", True).csv(\"@STAGE_RAWDATA/cars_data.csv\")",
   "execution_count": null
  },
  {
   "cell_type": "code",
   "id": "de3dac41-9b9b-442f-96b0-ab07b7b3a36a",
   "metadata": {
    "language": "python",
    "name": "cell8",
    "collapsed": false
   },
   "outputs": [],
   "source": "df.show()\n\ndf.write.save_as_table(\"Used_Cars_India\", mode=\"overwrite\", table_type=\"transient\")",
   "execution_count": null
  },
  {
   "cell_type": "markdown",
   "id": "3adfb7fa-1670-4074-956f-d80b84bd15a1",
   "metadata": {
    "name": "cell10",
    "collapsed": false
   },
   "source": "### Load the Table from snowflake table"
  },
  {
   "cell_type": "code",
   "id": "3c93b730-3335-4d11-b4fa-41f59b1ae5da",
   "metadata": {
    "language": "python",
    "name": "cell11",
    "collapsed": false,
    "codeCollapsed": false
   },
   "outputs": [],
   "source": "df = session.table('Used_Cars_India')",
   "execution_count": null
  },
  {
   "cell_type": "markdown",
   "id": "fd96adfc-5396-4538-ba17-8d5710685519",
   "metadata": {
    "name": "cell12",
    "collapsed": false
   },
   "source": "## DATA EXPLORATION \n\nLet explore do some exploratory analysis on the dataset"
  },
  {
   "cell_type": "code",
   "id": "77f7b80a-ff4c-49f6-a180-318140e1ebc5",
   "metadata": {
    "language": "python",
    "name": "cell13",
    "collapsed": false,
    "codeCollapsed": false
   },
   "outputs": [],
   "source": "#datatypes\ndf_sch = df.schema\n\ndf.dtypes",
   "execution_count": null
  },
  {
   "cell_type": "markdown",
   "id": "ab705749-c485-43c6-9839-a8a07aa23a71",
   "metadata": {
    "name": "cell16",
    "collapsed": false
   },
   "source": "## DATA CLEANSING ACTIVITIES \n\n1. changing all the columns to uppercase \n2. Identifying the categorical and numeric cols \n3. Null handling \n4. uppercase the column values for cat columns "
  },
  {
   "cell_type": "code",
   "id": "5ad025ef-3539-44be-9f5d-04d65d891f9d",
   "metadata": {
    "language": "python",
    "name": "cell17",
    "collapsed": false
   },
   "outputs": [],
   "source": "col_name_mapping = {col: col.upper().replace('\"','') for col in df.columns}\ndf = df.rename(col_name_mapping)\ndf.show()",
   "execution_count": null
  },
  {
   "cell_type": "markdown",
   "id": "b90d3410-d38f-4117-96a4-56e8291658a2",
   "metadata": {
    "name": "cell14",
    "collapsed": false
   },
   "source": "Converting the decimal to double type for null handling and smooth use in model prediction"
  },
  {
   "cell_type": "code",
   "id": "a1b0f945-8924-49ff-9064-bc5f481d8c38",
   "metadata": {
    "language": "python",
    "name": "cell15",
    "collapsed": false
   },
   "outputs": [],
   "source": "## get the category columns\ncat_cols = []\nfor col in df.schema:\n    if \"String\" in str(col.datatype):\n        cat_cols.append(col.name)\nprint(cat_cols)\n",
   "execution_count": null
  },
  {
   "cell_type": "code",
   "id": "3f501a15-ca74-4982-b2e1-9a9dc8e45e2a",
   "metadata": {
    "language": "python",
    "name": "cell18",
    "collapsed": false
   },
   "outputs": [],
   "source": "## get the decimal columns\ndecimal_cols = []\nfor col in df.schema:\n    if \"Decimal\" in str(col.datatype):\n        decimal_cols.append(col.name)\n#print(decimal_cols)\nfor col in decimal_cols:\n    df = df.with_column(col,df[col].cast(DoubleType()))\ndf.show()\n\n",
   "execution_count": null
  },
  {
   "cell_type": "code",
   "id": "72892c96-2084-471e-b334-4b63525f9bdb",
   "metadata": {
    "language": "python",
    "name": "cell19",
    "collapsed": false
   },
   "outputs": [],
   "source": "df.select(F.array_unique_agg(\"TRANSMISSION\")).show()\ndf.select(F.array_unique_agg(\"FUEL_TYPE\")).show()\ndf.select(F.array_unique_agg(\"OWNER_TYPE\")).show()\ndf.select(F.array_unique_agg(\"BRAND\")).show()\ndf.select(F.array_unique_agg(\"MODEL\")).show()\ndf.select(F.array_unique_agg(\"LOCATION\")).show()\ndf.select(F.array_unique_agg(\"YEAR\")).show()\n\n",
   "execution_count": null
  },
  {
   "cell_type": "code",
   "id": "57d817cb-684f-4305-9190-778b01ccd7b4",
   "metadata": {
    "language": "python",
    "name": "cell20",
    "collapsed": false
   },
   "outputs": [],
   "source": "df.describe()",
   "execution_count": null
  }
 ]
}